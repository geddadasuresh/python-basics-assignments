{
 "cells": [
  {
   "cell_type": "markdown",
   "id": "9239918d",
   "metadata": {},
   "source": [
    "### 1. In the below elements which of them are values or an expression? eg:- values can be integer or string and expressions will be mathematical operators.\n",
    "* ,'hello',-87.8,- ,/ , +\t,6 \n",
    "### answer:-\n",
    " * values:-'hello',   -87.8,     6      \n",
    " * expressions:- *,-,/,+   "
   ]
  },
  {
   "cell_type": "markdown",
   "id": "88e7020d",
   "metadata": {},
   "source": [
    "### 2. What is the difference between string and variable?"
   ]
  },
  {
   "cell_type": "markdown",
   "id": "15f0d62d",
   "metadata": {},
   "source": [
    "### answer:-\n",
    "string :- string is a datatype.         \n",
    "    eg:- s='suresh' here the datatype of s is 'string'  \n",
    "    \n",
    "variable:- It is used to store the values.       \n",
    "    eg:- s='suresh' here s is the variable name      "
   ]
  },
  {
   "cell_type": "markdown",
   "id": "cf6401b6",
   "metadata": {},
   "source": [
    "### 3. Describe three different data types."
   ]
  },
  {
   "cell_type": "markdown",
   "id": "fb12c313",
   "metadata": {},
   "source": [
    "### answer\n",
    "#### 1.int :-\n",
    " * This datatype represents integer values like 0,1,2,3,4,5,6,7....\n",
    "\n",
    "#### 2.float :-\n",
    " * This datatype represents float values like 1.0 ,2.12 ,4.53 ,83.234...  \n",
    " \n",
    "#### 3. bool:-\n",
    " * This datatype represents boolean values,  True and False "
   ]
  },
  {
   "cell_type": "markdown",
   "id": "7bb33846",
   "metadata": {},
   "source": [
    "### 4. What is an expression made up of? What do all expressions do?\n",
    "### answer:-\n",
    "* .expressions are the combination of variables,mathematical operators\n",
    "* .expressions represents a value."
   ]
  },
  {
   "cell_type": "markdown",
   "id": "9c74049a",
   "metadata": {},
   "source": [
    "### 5. This assignment statements, like spam = 10. What is the difference between an expression and a statement?\n",
    "### answer:-\n",
    " * statement is nothing but assigning a value like spam=10\n",
    " * but expression is made up of variables ,mathematical operators .which returns a value"
   ]
  },
  {
   "cell_type": "markdown",
   "id": "5e45f8c5",
   "metadata": {},
   "source": [
    "### 6. After running the following code, what does the variable bacon contain? \n",
    "bacon =22,bacon+1\n",
    "### answer:-\n",
    "#### bacon=22"
   ]
  },
  {
   "cell_type": "code",
   "execution_count": 21,
   "id": "69d23d95",
   "metadata": {},
   "outputs": [
    {
     "data": {
      "text/plain": [
       "22"
      ]
     },
     "execution_count": 21,
     "metadata": {},
     "output_type": "execute_result"
    }
   ],
   "source": [
    "bacon=22\n",
    "bacon+1\n",
    "bacon"
   ]
  },
  {
   "cell_type": "markdown",
   "id": "a8db7fbe",
   "metadata": {},
   "source": [
    "### 7. What should the values of the following two terms be?\n",
    "### answer\n",
    "'spam' + 'spamspam'-------> 'spamspamspam'\n",
    "\n",
    "'spam' * 3         -------> 'spamspamspam'\n"
   ]
  },
  {
   "cell_type": "code",
   "execution_count": 22,
   "id": "ab179bf1",
   "metadata": {},
   "outputs": [
    {
     "name": "stdout",
     "output_type": "stream",
     "text": [
      "spamspamspam\n",
      "spamspamspam\n"
     ]
    }
   ],
   "source": [
    "a='spam'+'spamspam'\n",
    "b='spam'*3\n",
    "print(a)\n",
    "print(b)"
   ]
  },
  {
   "cell_type": "markdown",
   "id": "3337f92c",
   "metadata": {},
   "source": [
    "### 8. Why is eggs a valid variable name while 100 is invalid?\n",
    "### answer:- \n",
    "There are some rules to declare a variable name \n",
    " * . we should only use alphabets and underscore ( _ ) symbol  only while defining a variable\n",
    " * . numerical values are not allowed."
   ]
  },
  {
   "cell_type": "markdown",
   "id": "232b0b5c",
   "metadata": {},
   "source": [
    "### 9. What three functions can be used to get the integer, floating-point number, or string version of a value?\n",
    "### answer :-\n",
    " *  To get the integer value we can use int()\n",
    " *  To get the float value we can use float()\n",
    " *  To get the string value we can use str()\n"
   ]
  },
  {
   "cell_type": "code",
   "execution_count": 30,
   "id": "0cc2b189",
   "metadata": {},
   "outputs": [
    {
     "name": "stdout",
     "output_type": "stream",
     "text": [
      "10\n",
      "10.0\n",
      "11\n",
      "11.9\n",
      "True\n",
      "True\n"
     ]
    }
   ],
   "source": [
    "## int to str and float\n",
    "a=10\n",
    "print(str(a))\n",
    "print(float(a))\n",
    "\n",
    "## float to str and int\n",
    "b=11.90\n",
    "print(int(b))\n",
    "print(str(b))\n",
    "\n",
    "## we cannot convert string datatype to int and float but we can convert to boolean datatype\n",
    "c='k'\n",
    "d=' '\n",
    "print(bool(c))\n",
    "print(bool(d))"
   ]
  },
  {
   "cell_type": "markdown",
   "id": "cf882946",
   "metadata": {},
   "source": [
    "### 10. Why does this expression cause an error? How can you fix it?\n",
    " 'I have eaten ' + 99 + ' burritos.'\n",
    "\n",
    "### answer:-\n",
    "#### concatenation of string and int type is not possible.to solve this problem we have to convert integer 99 to string type .then only we can concatenate\n"
   ]
  },
  {
   "cell_type": "code",
   "execution_count": 31,
   "id": "235dddec",
   "metadata": {},
   "outputs": [
    {
     "data": {
      "text/plain": [
       "'I have eaten 99 burritos.'"
      ]
     },
     "execution_count": 31,
     "metadata": {},
     "output_type": "execute_result"
    }
   ],
   "source": [
    " 'I have eaten ' +'99' + ' burritos.'\n"
   ]
  }
 ],
 "metadata": {
  "kernelspec": {
   "display_name": "Python 3 (ipykernel)",
   "language": "python",
   "name": "python3"
  },
  "language_info": {
   "codemirror_mode": {
    "name": "ipython",
    "version": 3
   },
   "file_extension": ".py",
   "mimetype": "text/x-python",
   "name": "python",
   "nbconvert_exporter": "python",
   "pygments_lexer": "ipython3",
   "version": "3.9.7"
  }
 },
 "nbformat": 4,
 "nbformat_minor": 5
}
